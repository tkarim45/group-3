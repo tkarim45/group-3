{
  "nbformat": 4,
  "nbformat_minor": 0,
  "metadata": {
    "colab": {
      "provenance": []
    },
    "kernelspec": {
      "name": "python3",
      "display_name": "Python 3"
    },
    "language_info": {
      "name": "python"
    }
  },
  "cells": [
    {
      "cell_type": "code",
      "execution_count": null,
      "metadata": {
        "id": "J85aPPF9n08S"
      },
      "outputs": [],
      "source": [
        "!pip3 install great_expectations"
      ]
    },
    {
      "cell_type": "code",
      "source": [
        "import great_expectations as gx\n",
        "import pandas as pd"
      ],
      "metadata": {
        "id": "H2OXunQjoKcU"
      },
      "execution_count": 2,
      "outputs": []
    },
    {
      "cell_type": "code",
      "source": [
        "df = pd.read_csv(\n",
        "    \"https://raw.githubusercontent.com/great-expectations/gx_tutorials/main/data/yellow_tripdata_sample_2019-01.csv\"\n",
        ")"
      ],
      "metadata": {
        "id": "A4_oPbKJoRs4"
      },
      "execution_count": 3,
      "outputs": []
    },
    {
      "cell_type": "markdown",
      "source": [
        "# Using Great Expectations"
      ],
      "metadata": {
        "id": "hpK4MNNno5Kr"
      }
    },
    {
      "cell_type": "code",
      "source": [
        "## Example Setup\n",
        "\n",
        "context = gx.get_context()\n",
        "data_source = context.data_sources.add_pandas(\"pandas\")\n",
        "data_asset = data_source.add_dataframe_asset(name=\"pd dataframe asset\")\n",
        "\n",
        "batch_definition = data_asset.add_batch_definition_whole_dataframe(\"batch definition\")\n",
        "batch = batch_definition.get_batch(batch_parameters={\"dataframe\": df})\n",
        "\n",
        "expectation = gx.expectations.ExpectColumnValuesToBeBetween(\n",
        "    column=\"passenger_count\", min_value=1, max_value=6\n",
        ")\n",
        "\n",
        "validation_result = batch.validate(expectation)"
      ],
      "metadata": {
        "id": "WW3LH-B8o4WU"
      },
      "execution_count": null,
      "outputs": []
    },
    {
      "cell_type": "markdown",
      "source": [
        "#**To-do:**\n",
        "\n",
        "1.   Fetch any dataset from online source. I'll recommend using reddit API used in the assignment #1.\n",
        "2.   Run 5 expectations of your choice to validate the dataset. They should cover row, column, multi-column, table, distribution operation.\n",
        "3.   Submit the notebook file on LMS before Monday 11:55 PM.\n",
        "4.   Mention your group number in the name of the file.\n",
        "\n"
      ],
      "metadata": {
        "id": "TKEe0iUgo_mI"
      }
    }
  ]
}